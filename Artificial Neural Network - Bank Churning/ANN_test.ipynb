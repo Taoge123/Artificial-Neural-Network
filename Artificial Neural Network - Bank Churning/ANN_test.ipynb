{
 "cells": [
  {
   "cell_type": "code",
   "execution_count": 1,
   "metadata": {
    "collapsed": true
   },
   "outputs": [],
   "source": [
    "# Artificial Neural Network\n",
    "\n",
    "# Installing Theano\n",
    "# pip install --upgrade --no-deps git+git://github.com/Theano/Theano.git\n",
    "\n",
    "# Installing Tensorflow\n",
    "# pip install tensorflow\n",
    "\n",
    "# Installing Keras\n",
    "# pip install --upgrade keras\n",
    "\n",
    "# Part 1 - Data Preprocessing\n",
    "\n",
    "# Importing the libraries\n",
    "import numpy as np\n",
    "import matplotlib.pyplot as plt\n",
    "import pandas as pd\n"
   ]
  },
  {
   "cell_type": "code",
   "execution_count": 2,
   "metadata": {
    "collapsed": true
   },
   "outputs": [],
   "source": [
    "# Importing the dataset\n",
    "dataset = pd.read_csv('Churn_Modelling.csv')\n",
    "X = dataset.iloc[:, 3:13].values\n",
    "y = dataset.iloc[:, 13].values\n"
   ]
  },
  {
   "cell_type": "code",
   "execution_count": 3,
   "metadata": {
    "collapsed": true
   },
   "outputs": [],
   "source": [
    "# Encoding categorical data\n",
    "from sklearn.preprocessing import LabelEncoder, OneHotEncoder\n",
    "labelencoder_X_1 = LabelEncoder()\n",
    "X[:, 1] = labelencoder_X_1.fit_transform(X[:, 1])\n",
    "labelencoder_X_2 = LabelEncoder()\n",
    "X[:, 2] = labelencoder_X_2.fit_transform(X[:, 2])\n",
    "onehotencoder = OneHotEncoder(categorical_features = [1])\n",
    "X = onehotencoder.fit_transform(X).toarray()\n",
    "X = X[:, 1:]\n"
   ]
  },
  {
   "cell_type": "code",
   "execution_count": 4,
   "metadata": {
    "collapsed": true
   },
   "outputs": [],
   "source": [
    "# Splitting the dataset into the Training set and Test set\n",
    "from sklearn.model_selection import train_test_split\n",
    "X_train, X_test, y_train, y_test = train_test_split(X, y, test_size = 0.2, random_state = 0)\n"
   ]
  },
  {
   "cell_type": "code",
   "execution_count": 5,
   "metadata": {
    "collapsed": true
   },
   "outputs": [],
   "source": [
    "# Feature Scaling\n",
    "from sklearn.preprocessing import StandardScaler\n",
    "sc = StandardScaler()\n",
    "X_train = sc.fit_transform(X_train)\n",
    "X_test = sc.transform(X_test)\n",
    "\n"
   ]
  },
  {
   "cell_type": "code",
   "execution_count": 6,
   "metadata": {},
   "outputs": [
    {
     "name": "stderr",
     "output_type": "stream",
     "text": [
      "Using TensorFlow backend.\n"
     ]
    }
   ],
   "source": [
    "# Part 2 - Now let's make the ANN!\n",
    "\n",
    "# Importing the Keras libraries and packages\n",
    "import keras\n",
    "from keras.models import Sequential\n",
    "from keras.layers import Dense\n",
    "\n",
    "# Initialising the ANN\n",
    "classifier = Sequential()\n"
   ]
  },
  {
   "cell_type": "code",
   "execution_count": 7,
   "metadata": {},
   "outputs": [
    {
     "name": "stdout",
     "output_type": "stream",
     "text": [
      "Epoch 1/100\n",
      "8000/8000 [==============================] - 3s - loss: 0.5017 - acc: 0.7961     \n",
      "Epoch 2/100\n",
      "8000/8000 [==============================] - 3s - loss: 0.4212 - acc: 0.7960     \n",
      "Epoch 3/100\n",
      "8000/8000 [==============================] - 3s - loss: 0.4122 - acc: 0.7960     \n",
      "Epoch 4/100\n",
      "8000/8000 [==============================] - 2s - loss: 0.4040 - acc: 0.8055     \n",
      "Epoch 5/100\n",
      "8000/8000 [==============================] - 2s - loss: 0.3964 - acc: 0.8279     \n",
      "Epoch 6/100\n",
      "8000/8000 [==============================] - 2s - loss: 0.3900 - acc: 0.8284     \n",
      "Epoch 7/100\n",
      "8000/8000 [==============================] - 2s - loss: 0.3849 - acc: 0.8286     \n",
      "Epoch 8/100\n",
      "8000/8000 [==============================] - 3s - loss: 0.3808 - acc: 0.8384     \n",
      "Epoch 9/100\n",
      "8000/8000 [==============================] - 3s - loss: 0.3770 - acc: 0.8422     \n",
      "Epoch 10/100\n",
      "8000/8000 [==============================] - 3s - loss: 0.3739 - acc: 0.8437     \n",
      "Epoch 11/100\n",
      "8000/8000 [==============================] - 2s - loss: 0.3702 - acc: 0.8477     \n",
      "Epoch 12/100\n",
      "8000/8000 [==============================] - 2s - loss: 0.3678 - acc: 0.8482     \n",
      "Epoch 13/100\n",
      "8000/8000 [==============================] - 2s - loss: 0.3658 - acc: 0.8496     \n",
      "Epoch 14/100\n",
      "8000/8000 [==============================] - 2s - loss: 0.3628 - acc: 0.8527     \n",
      "Epoch 15/100\n",
      "8000/8000 [==============================] - 3s - loss: 0.3613 - acc: 0.8532     \n",
      "Epoch 16/100\n",
      "8000/8000 [==============================] - 3s - loss: 0.3594 - acc: 0.8532     \n",
      "Epoch 17/100\n",
      "8000/8000 [==============================] - 2s - loss: 0.3587 - acc: 0.8532     \n",
      "Epoch 18/100\n",
      "8000/8000 [==============================] - 2s - loss: 0.3573 - acc: 0.8546     \n",
      "Epoch 19/100\n",
      "8000/8000 [==============================] - 2s - loss: 0.3563 - acc: 0.8566     \n",
      "Epoch 20/100\n",
      "8000/8000 [==============================] - 2s - loss: 0.3563 - acc: 0.8545     \n",
      "Epoch 21/100\n",
      "8000/8000 [==============================] - 2s - loss: 0.3549 - acc: 0.8575     \n",
      "Epoch 22/100\n",
      "8000/8000 [==============================] - 2s - loss: 0.3544 - acc: 0.8559     \n",
      "Epoch 23/100\n",
      "8000/8000 [==============================] - 2s - loss: 0.3539 - acc: 0.8560     \n",
      "Epoch 24/100\n",
      "8000/8000 [==============================] - 3s - loss: 0.3534 - acc: 0.8581     \n",
      "Epoch 25/100\n",
      "8000/8000 [==============================] - 3s - loss: 0.3538 - acc: 0.8577     \n",
      "Epoch 26/100\n",
      "8000/8000 [==============================] - 2s - loss: 0.3521 - acc: 0.8554     \n",
      "Epoch 27/100\n",
      "8000/8000 [==============================] - 3s - loss: 0.3519 - acc: 0.8564     \n",
      "Epoch 28/100\n",
      "8000/8000 [==============================] - 3s - loss: 0.3518 - acc: 0.8569     \n",
      "Epoch 29/100\n",
      "8000/8000 [==============================] - 3s - loss: 0.3512 - acc: 0.8572     \n",
      "Epoch 30/100\n",
      "8000/8000 [==============================] - 3s - loss: 0.3503 - acc: 0.8591     \n",
      "Epoch 31/100\n",
      "8000/8000 [==============================] - 3s - loss: 0.3506 - acc: 0.8590     \n",
      "Epoch 32/100\n",
      "8000/8000 [==============================] - 2s - loss: 0.3506 - acc: 0.8584     \n",
      "Epoch 33/100\n",
      "8000/8000 [==============================] - 3s - loss: 0.3501 - acc: 0.8571     \n",
      "Epoch 34/100\n",
      "8000/8000 [==============================] - 4s - loss: 0.3496 - acc: 0.8585     \n",
      "Epoch 35/100\n",
      "8000/8000 [==============================] - 3s - loss: 0.3487 - acc: 0.8584     \n",
      "Epoch 36/100\n",
      "8000/8000 [==============================] - 3s - loss: 0.3484 - acc: 0.8595     \n",
      "Epoch 37/100\n",
      "8000/8000 [==============================] - 3s - loss: 0.3479 - acc: 0.8581     \n",
      "Epoch 38/100\n",
      "8000/8000 [==============================] - 3s - loss: 0.3476 - acc: 0.8590     \n",
      "Epoch 39/100\n",
      "8000/8000 [==============================] - 3s - loss: 0.3473 - acc: 0.8587     \n",
      "Epoch 40/100\n",
      "8000/8000 [==============================] - 3s - loss: 0.3477 - acc: 0.8597     \n",
      "Epoch 41/100\n",
      "8000/8000 [==============================] - 3s - loss: 0.3475 - acc: 0.8574     \n",
      "Epoch 42/100\n",
      "8000/8000 [==============================] - 3s - loss: 0.3462 - acc: 0.8611     \n",
      "Epoch 43/100\n",
      "8000/8000 [==============================] - 3s - loss: 0.3469 - acc: 0.8586     \n",
      "Epoch 44/100\n",
      "8000/8000 [==============================] - 3s - loss: 0.3468 - acc: 0.8604     \n",
      "Epoch 45/100\n",
      "8000/8000 [==============================] - 2s - loss: 0.3459 - acc: 0.8599     \n",
      "Epoch 46/100\n",
      "8000/8000 [==============================] - 2s - loss: 0.3453 - acc: 0.8597     \n",
      "Epoch 47/100\n",
      "8000/8000 [==============================] - 3s - loss: 0.3461 - acc: 0.8592     \n",
      "Epoch 48/100\n",
      "8000/8000 [==============================] - 4s - loss: 0.3455 - acc: 0.8604     \n",
      "Epoch 49/100\n",
      "8000/8000 [==============================] - 2s - loss: 0.3450 - acc: 0.8586     \n",
      "Epoch 50/100\n",
      "8000/8000 [==============================] - 3s - loss: 0.3448 - acc: 0.8585     \n",
      "Epoch 51/100\n",
      "8000/8000 [==============================] - 3s - loss: 0.3450 - acc: 0.8599     \n",
      "Epoch 52/100\n",
      "8000/8000 [==============================] - 2s - loss: 0.3448 - acc: 0.8592     \n",
      "Epoch 53/100\n",
      "8000/8000 [==============================] - 2s - loss: 0.3444 - acc: 0.8601     \n",
      "Epoch 54/100\n",
      "8000/8000 [==============================] - 3s - loss: 0.3440 - acc: 0.8586     \n",
      "Epoch 55/100\n",
      "8000/8000 [==============================] - 3s - loss: 0.3435 - acc: 0.8600     \n",
      "Epoch 56/100\n",
      "8000/8000 [==============================] - 3s - loss: 0.3437 - acc: 0.8606     \n",
      "Epoch 57/100\n",
      "8000/8000 [==============================] - 2s - loss: 0.3441 - acc: 0.8600     \n",
      "Epoch 58/100\n",
      "8000/8000 [==============================] - 2s - loss: 0.3436 - acc: 0.8601     \n",
      "Epoch 59/100\n",
      "8000/8000 [==============================] - 2s - loss: 0.3439 - acc: 0.8610     \n",
      "Epoch 60/100\n",
      "8000/8000 [==============================] - 3s - loss: 0.3426 - acc: 0.8602     \n",
      "Epoch 61/100\n",
      "8000/8000 [==============================] - 3s - loss: 0.3432 - acc: 0.8600     \n",
      "Epoch 62/100\n",
      "8000/8000 [==============================] - 2s - loss: 0.3433 - acc: 0.8594     \n",
      "Epoch 63/100\n",
      "8000/8000 [==============================] - 3s - loss: 0.3424 - acc: 0.8617     \n",
      "Epoch 64/100\n",
      "8000/8000 [==============================] - 2s - loss: 0.3433 - acc: 0.8624     \n",
      "Epoch 65/100\n",
      "8000/8000 [==============================] - 2s - loss: 0.3434 - acc: 0.8591     \n",
      "Epoch 66/100\n",
      "8000/8000 [==============================] - 2s - loss: 0.3427 - acc: 0.8606     \n",
      "Epoch 67/100\n",
      "8000/8000 [==============================] - 2s - loss: 0.3431 - acc: 0.8637     \n",
      "Epoch 68/100\n",
      "8000/8000 [==============================] - 2s - loss: 0.3432 - acc: 0.8626     \n",
      "Epoch 69/100\n",
      "8000/8000 [==============================] - 2s - loss: 0.3434 - acc: 0.8599     \n",
      "Epoch 70/100\n",
      "8000/8000 [==============================] - 2s - loss: 0.3427 - acc: 0.8602     \n",
      "Epoch 71/100\n",
      "8000/8000 [==============================] - 2s - loss: 0.3426 - acc: 0.8619     \n",
      "Epoch 72/100\n",
      "8000/8000 [==============================] - 2s - loss: 0.3421 - acc: 0.8616     \n",
      "Epoch 73/100\n",
      "8000/8000 [==============================] - 2s - loss: 0.3427 - acc: 0.8624     \n",
      "Epoch 74/100\n",
      "8000/8000 [==============================] - 2s - loss: 0.3422 - acc: 0.8604     \n",
      "Epoch 75/100\n",
      "8000/8000 [==============================] - 2s - loss: 0.3429 - acc: 0.8630     \n",
      "Epoch 76/100\n",
      "8000/8000 [==============================] - 2s - loss: 0.3424 - acc: 0.8625     \n",
      "Epoch 77/100\n",
      "8000/8000 [==============================] - 2s - loss: 0.3416 - acc: 0.8612     \n",
      "Epoch 78/100\n",
      "8000/8000 [==============================] - 2s - loss: 0.3427 - acc: 0.8592     \n",
      "Epoch 79/100\n",
      "8000/8000 [==============================] - 2s - loss: 0.3419 - acc: 0.8621     \n",
      "Epoch 80/100\n",
      "8000/8000 [==============================] - 2s - loss: 0.3423 - acc: 0.8615     \n",
      "Epoch 81/100\n",
      "8000/8000 [==============================] - 2s - loss: 0.3419 - acc: 0.8590     \n",
      "Epoch 82/100\n",
      "8000/8000 [==============================] - 2s - loss: 0.3424 - acc: 0.8616     \n",
      "Epoch 83/100\n",
      "8000/8000 [==============================] - 2s - loss: 0.3417 - acc: 0.8615     \n",
      "Epoch 84/100\n",
      "8000/8000 [==============================] - 3s - loss: 0.3415 - acc: 0.8599     \n",
      "Epoch 85/100\n",
      "8000/8000 [==============================] - 2s - loss: 0.3421 - acc: 0.8624     \n",
      "Epoch 86/100\n",
      "8000/8000 [==============================] - 2s - loss: 0.3419 - acc: 0.8610     \n",
      "Epoch 87/100\n"
     ]
    },
    {
     "name": "stdout",
     "output_type": "stream",
     "text": [
      "8000/8000 [==============================] - 2s - loss: 0.3420 - acc: 0.8631     \n",
      "Epoch 88/100\n",
      "8000/8000 [==============================] - 2s - loss: 0.3412 - acc: 0.8610     \n",
      "Epoch 89/100\n",
      "8000/8000 [==============================] - 3s - loss: 0.3417 - acc: 0.8625     \n",
      "Epoch 90/100\n",
      "8000/8000 [==============================] - 2s - loss: 0.3415 - acc: 0.8599     \n",
      "Epoch 91/100\n",
      "8000/8000 [==============================] - 2s - loss: 0.3418 - acc: 0.8625     \n",
      "Epoch 92/100\n",
      "8000/8000 [==============================] - 2s - loss: 0.3418 - acc: 0.8610     \n",
      "Epoch 93/100\n",
      "8000/8000 [==============================] - 2s - loss: 0.3415 - acc: 0.8620     \n",
      "Epoch 94/100\n",
      "8000/8000 [==============================] - 2s - loss: 0.3413 - acc: 0.8626     \n",
      "Epoch 95/100\n",
      "8000/8000 [==============================] - 2s - loss: 0.3415 - acc: 0.8630     \n",
      "Epoch 96/100\n",
      "8000/8000 [==============================] - 2s - loss: 0.3408 - acc: 0.8611     \n",
      "Epoch 97/100\n",
      "8000/8000 [==============================] - 2s - loss: 0.3418 - acc: 0.8614     \n",
      "Epoch 98/100\n",
      "8000/8000 [==============================] - 3s - loss: 0.3410 - acc: 0.8606     \n",
      "Epoch 99/100\n",
      "8000/8000 [==============================] - 3s - loss: 0.3410 - acc: 0.8612     \n",
      "Epoch 100/100\n",
      "8000/8000 [==============================] - 3s - loss: 0.3412 - acc: 0.8621     \n"
     ]
    },
    {
     "data": {
      "text/plain": [
       "<keras.callbacks.History at 0x127716358>"
      ]
     },
     "execution_count": 7,
     "metadata": {},
     "output_type": "execute_result"
    }
   ],
   "source": [
    "# Adding the input layer and the first hidden layer\n",
    "classifier.add(Dense(units = 6, kernel_initializer = 'uniform', activation = 'relu', input_dim = 11))\n",
    "\n",
    "# Adding the second hidden layer\n",
    "classifier.add(Dense(units = 6, kernel_initializer = 'uniform', activation = 'relu'))\n",
    "\n",
    "# Adding the output layer\n",
    "classifier.add(Dense(units = 1, kernel_initializer = 'uniform', activation = 'sigmoid'))\n",
    "\n",
    "# Compiling the ANN\n",
    "classifier.compile(optimizer = 'adam', loss = 'binary_crossentropy', metrics = ['accuracy'])\n",
    "\n",
    "# Fitting the ANN to the Training set\n",
    "classifier.fit(X_train, y_train, batch_size = 10, epochs = 100)\n",
    "\n"
   ]
  },
  {
   "cell_type": "code",
   "execution_count": 11,
   "metadata": {
    "collapsed": true
   },
   "outputs": [],
   "source": [
    "# Part 3 - Making predictions and evaluating the model\n",
    "\n",
    "# Predicting the Test set results\n",
    "y_pred = classifier.predict(X_test)\n",
    "y_pred = (y_pred > 0.5)\n"
   ]
  },
  {
   "cell_type": "code",
   "execution_count": 12,
   "metadata": {
    "collapsed": true
   },
   "outputs": [],
   "source": [
    "# Predicting a single new observation\n",
    "\"\"\"Predict if the customer with the following informations will leave the bank:\n",
    "Geography: France\n",
    "Credit Score: 600\n",
    "Gender: Male\n",
    "Age: 40\n",
    "Tenure: 3\n",
    "Balance: 60000\n",
    "Number of Products: 2\n",
    "Has Credit Card: Yes\n",
    "Is Active Member: Yes\n",
    "Estimated Salary: 50000\"\"\"\n",
    "new_prediction = classifier.predict(sc.transform(np.array([[0.0, 0, 600, 1, 40, 3, 60000, 2, 1, 1, 50000]])))\n",
    "new_prediction = (new_prediction > 0.5)\n"
   ]
  },
  {
   "cell_type": "code",
   "execution_count": 13,
   "metadata": {
    "collapsed": true
   },
   "outputs": [],
   "source": [
    "# Making the Confusion Matrix\n",
    "from sklearn.metrics import confusion_matrix\n",
    "cm = confusion_matrix(y_test, y_pred)"
   ]
  },
  {
   "cell_type": "code",
   "execution_count": null,
   "metadata": {
    "collapsed": true
   },
   "outputs": [],
   "source": []
  }
 ],
 "metadata": {
  "kernelspec": {
   "display_name": "Python 3",
   "language": "python",
   "name": "python3"
  },
  "language_info": {
   "codemirror_mode": {
    "name": "ipython",
    "version": 3
   },
   "file_extension": ".py",
   "mimetype": "text/x-python",
   "name": "python",
   "nbconvert_exporter": "python",
   "pygments_lexer": "ipython3",
   "version": "3.6.1"
  }
 },
 "nbformat": 4,
 "nbformat_minor": 2
}
