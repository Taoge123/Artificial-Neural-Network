{
 "cells": [
  {
   "cell_type": "code",
   "execution_count": 1,
   "metadata": {
    "collapsed": true
   },
   "outputs": [],
   "source": [
    "# Artificial Neural Network\n",
    "\n",
    "# Installing Theano\n",
    "# pip install --upgrade --no-deps git+git://github.com/Theano/Theano.git\n",
    "\n",
    "# Installing Tensorflow\n",
    "# pip install tensorflow\n",
    "\n",
    "# Installing Keras\n",
    "# pip install --upgrade keras\n",
    "\n",
    "# Part 1 - Data Preprocessing\n",
    "\n",
    "# Importing the libraries\n",
    "import numpy as np\n",
    "import matplotlib.pyplot as plt\n",
    "import pandas as pd"
   ]
  },
  {
   "cell_type": "code",
   "execution_count": 2,
   "metadata": {
    "collapsed": true
   },
   "outputs": [],
   "source": [
    "# Importing the dataset\n",
    "dataset = pd.read_csv('Churn_Modelling.csv')\n",
    "X = dataset.iloc[:, 3:13].values\n",
    "y = dataset.iloc[:, 13].values"
   ]
  },
  {
   "cell_type": "code",
   "execution_count": 3,
   "metadata": {
    "collapsed": true
   },
   "outputs": [],
   "source": [
    "# Encoding categorical data\n",
    "from sklearn.preprocessing import LabelEncoder, OneHotEncoder\n",
    "labelencoder_X_1 = LabelEncoder()\n",
    "X[:, 1] = labelencoder_X_1.fit_transform(X[:, 1])\n",
    "labelencoder_X_2 = LabelEncoder()\n",
    "X[:, 2] = labelencoder_X_2.fit_transform(X[:, 2])\n",
    "onehotencoder = OneHotEncoder(categorical_features = [1])\n",
    "X = onehotencoder.fit_transform(X).toarray()\n",
    "X = X[:, 1:]"
   ]
  },
  {
   "cell_type": "code",
   "execution_count": 4,
   "metadata": {
    "collapsed": true
   },
   "outputs": [],
   "source": [
    "# Splitting the dataset into the Training set and Test set\n",
    "from sklearn.model_selection import train_test_split\n",
    "X_train, X_test, y_train, y_test = train_test_split(X, y, test_size = 0.2, random_state = 0)"
   ]
  },
  {
   "cell_type": "code",
   "execution_count": 5,
   "metadata": {
    "collapsed": true
   },
   "outputs": [],
   "source": [
    "# Feature Scaling\n",
    "from sklearn.preprocessing import StandardScaler\n",
    "sc = StandardScaler()\n",
    "X_train = sc.fit_transform(X_train)\n",
    "X_test = sc.transform(X_test)"
   ]
  },
  {
   "cell_type": "code",
   "execution_count": 6,
   "metadata": {},
   "outputs": [
    {
     "name": "stderr",
     "output_type": "stream",
     "text": [
      "Using TensorFlow backend.\n"
     ]
    }
   ],
   "source": [
    "# Part 2 - Now let's make the ANN!\n",
    "\n",
    "# Importing the Keras libraries and packages\n",
    "import keras\n",
    "from keras.models import Sequential\n",
    "from keras.layers import Dense"
   ]
  },
  {
   "cell_type": "code",
   "execution_count": 7,
   "metadata": {
    "collapsed": true
   },
   "outputs": [],
   "source": [
    "# Initialising the ANN\n",
    "classifier = Sequential()\n",
    "\n",
    "# Adding the input layer and the first hidden layer\n",
    "classifier.add(Dense(units = 6, kernel_initializer = 'uniform', activation = 'relu', input_dim = 11))"
   ]
  },
  {
   "cell_type": "code",
   "execution_count": 8,
   "metadata": {},
   "outputs": [
    {
     "name": "stdout",
     "output_type": "stream",
     "text": [
      "Epoch 1/100\n",
      "8000/8000 [==============================] - 4s - loss: 0.4855 - acc: 0.7946     \n",
      "Epoch 2/100\n",
      "8000/8000 [==============================] - 3s - loss: 0.4277 - acc: 0.7960     \n",
      "Epoch 3/100\n",
      "8000/8000 [==============================] - ETA: 0s - loss: 0.4215 - acc: 0.810 - 2s - loss: 0.4210 - acc: 0.8111     \n",
      "Epoch 4/100\n",
      "8000/8000 [==============================] - 2s - loss: 0.4148 - acc: 0.8291     \n",
      "Epoch 5/100\n",
      "8000/8000 [==============================] - 2s - loss: 0.4099 - acc: 0.8331     \n",
      "Epoch 6/100\n",
      "8000/8000 [==============================] - 2s - loss: 0.4072 - acc: 0.8330     \n",
      "Epoch 7/100\n",
      "8000/8000 [==============================] - 2s - loss: 0.4049 - acc: 0.8356     \n",
      "Epoch 8/100\n",
      "8000/8000 [==============================] - 2s - loss: 0.4040 - acc: 0.8342     \n",
      "Epoch 9/100\n",
      "8000/8000 [==============================] - 2s - loss: 0.4024 - acc: 0.8331     \n",
      "Epoch 10/100\n",
      "8000/8000 [==============================] - 2s - loss: 0.4020 - acc: 0.8354     \n",
      "Epoch 11/100\n",
      "8000/8000 [==============================] - 2s - loss: 0.4012 - acc: 0.8357     \n",
      "Epoch 12/100\n",
      "8000/8000 [==============================] - 2s - loss: 0.4003 - acc: 0.8365     \n",
      "Epoch 13/100\n",
      "8000/8000 [==============================] - 2s - loss: 0.3995 - acc: 0.8342     \n",
      "Epoch 14/100\n",
      "8000/8000 [==============================] - 2s - loss: 0.3991 - acc: 0.8352     \n",
      "Epoch 15/100\n",
      "8000/8000 [==============================] - 2s - loss: 0.3989 - acc: 0.8347     \n",
      "Epoch 16/100\n",
      "8000/8000 [==============================] - 2s - loss: 0.3981 - acc: 0.8359     \n",
      "Epoch 17/100\n",
      "8000/8000 [==============================] - 2s - loss: 0.3976 - acc: 0.8355     \n",
      "Epoch 18/100\n",
      "8000/8000 [==============================] - 2s - loss: 0.3973 - acc: 0.8365     \n",
      "Epoch 19/100\n",
      "8000/8000 [==============================] - 2s - loss: 0.3973 - acc: 0.8370     \n",
      "Epoch 20/100\n",
      "8000/8000 [==============================] - 2s - loss: 0.3973 - acc: 0.8359     \n",
      "Epoch 21/100\n",
      "8000/8000 [==============================] - 2s - loss: 0.3968 - acc: 0.8347     \n",
      "Epoch 22/100\n",
      "8000/8000 [==============================] - 2s - loss: 0.3966 - acc: 0.8370     \n",
      "Epoch 23/100\n",
      "8000/8000 [==============================] - 2s - loss: 0.3964 - acc: 0.8346     \n",
      "Epoch 24/100\n",
      "8000/8000 [==============================] - 2s - loss: 0.3964 - acc: 0.8371     \n",
      "Epoch 25/100\n",
      "8000/8000 [==============================] - 2s - loss: 0.3960 - acc: 0.8354     \n",
      "Epoch 26/100\n",
      "8000/8000 [==============================] - 2s - loss: 0.3960 - acc: 0.8370     \n",
      "Epoch 27/100\n",
      "8000/8000 [==============================] - 2s - loss: 0.3954 - acc: 0.8365     \n",
      "Epoch 28/100\n",
      "8000/8000 [==============================] - ETA: 0s - loss: 0.3946 - acc: 0.837 - 2s - loss: 0.3956 - acc: 0.8372     \n",
      "Epoch 29/100\n",
      "8000/8000 [==============================] - 2s - loss: 0.3948 - acc: 0.8337     \n",
      "Epoch 30/100\n",
      "8000/8000 [==============================] - 3s - loss: 0.3948 - acc: 0.8375     \n",
      "Epoch 31/100\n",
      "8000/8000 [==============================] - 3s - loss: 0.3947 - acc: 0.8352     \n",
      "Epoch 32/100\n",
      "8000/8000 [==============================] - 3s - loss: 0.3947 - acc: 0.8382     \n",
      "Epoch 33/100\n",
      "8000/8000 [==============================] - 2s - loss: 0.3950 - acc: 0.8370     \n",
      "Epoch 34/100\n",
      "8000/8000 [==============================] - 2s - loss: 0.3946 - acc: 0.8361     \n",
      "Epoch 35/100\n",
      "8000/8000 [==============================] - 3s - loss: 0.3942 - acc: 0.8374     \n",
      "Epoch 36/100\n",
      "8000/8000 [==============================] - 2s - loss: 0.3938 - acc: 0.8376     \n",
      "Epoch 37/100\n",
      "8000/8000 [==============================] - 3s - loss: 0.3923 - acc: 0.8390     \n",
      "Epoch 38/100\n",
      "8000/8000 [==============================] - 3s - loss: 0.3919 - acc: 0.8381     - ETA: 1s\n",
      "Epoch 39/100\n",
      "8000/8000 [==============================] - 3s - loss: 0.3909 - acc: 0.8381     \n",
      "Epoch 40/100\n",
      "8000/8000 [==============================] - 3s - loss: 0.3897 - acc: 0.8386     \n",
      "Epoch 41/100\n",
      "8000/8000 [==============================] - 3s - loss: 0.3880 - acc: 0.8412     \n",
      "Epoch 42/100\n",
      "8000/8000 [==============================] - 3s - loss: 0.3866 - acc: 0.8385     \n",
      "Epoch 43/100\n",
      "8000/8000 [==============================] - 2s - loss: 0.3844 - acc: 0.8405     \n",
      "Epoch 44/100\n",
      "8000/8000 [==============================] - 2s - loss: 0.3816 - acc: 0.8416     \n",
      "Epoch 45/100\n",
      "8000/8000 [==============================] - 3s - loss: 0.3802 - acc: 0.8399     \n",
      "Epoch 46/100\n",
      "8000/8000 [==============================] - 3s - loss: 0.3770 - acc: 0.8399     \n",
      "Epoch 47/100\n",
      "8000/8000 [==============================] - 3s - loss: 0.3754 - acc: 0.8409     \n",
      "Epoch 48/100\n",
      "8000/8000 [==============================] - 3s - loss: 0.3739 - acc: 0.8416     \n",
      "Epoch 49/100\n",
      "8000/8000 [==============================] - 2s - loss: 0.3725 - acc: 0.8435     \n",
      "Epoch 50/100\n",
      "8000/8000 [==============================] - 2s - loss: 0.3713 - acc: 0.8452     \n",
      "Epoch 51/100\n",
      "8000/8000 [==============================] - 2s - loss: 0.3701 - acc: 0.8446     \n",
      "Epoch 52/100\n",
      "8000/8000 [==============================] - 2s - loss: 0.3677 - acc: 0.8437     \n",
      "Epoch 53/100\n",
      "8000/8000 [==============================] - 3s - loss: 0.3679 - acc: 0.8440     \n",
      "Epoch 54/100\n",
      "8000/8000 [==============================] - 2s - loss: 0.3664 - acc: 0.8451     \n",
      "Epoch 55/100\n",
      "8000/8000 [==============================] - 3s - loss: 0.3647 - acc: 0.8462     \n",
      "Epoch 56/100\n",
      "8000/8000 [==============================] - 4s - loss: 0.3644 - acc: 0.8465     - ETA: 0s - loss: 0.3647 - acc:\n",
      "Epoch 57/100\n",
      "8000/8000 [==============================] - 4s - loss: 0.3618 - acc: 0.8459     \n",
      "Epoch 58/100\n",
      "8000/8000 [==============================] - 3s - loss: 0.3613 - acc: 0.8461     \n",
      "Epoch 59/100\n",
      "8000/8000 [==============================] - 3s - loss: 0.3600 - acc: 0.8499     - ETA:\n",
      "Epoch 60/100\n",
      "8000/8000 [==============================] - 3s - loss: 0.3597 - acc: 0.8500     \n",
      "Epoch 61/100\n",
      "8000/8000 [==============================] - 3s - loss: 0.3586 - acc: 0.8512     \n",
      "Epoch 62/100\n",
      "8000/8000 [==============================] - 3s - loss: 0.3564 - acc: 0.8512     \n",
      "Epoch 63/100\n",
      "8000/8000 [==============================] - 4s - loss: 0.3568 - acc: 0.8525     \n",
      "Epoch 64/100\n",
      "8000/8000 [==============================] - 3s - loss: 0.3556 - acc: 0.8542     \n",
      "Epoch 65/100\n",
      "8000/8000 [==============================] - 3s - loss: 0.3549 - acc: 0.8539     \n",
      "Epoch 66/100\n",
      "8000/8000 [==============================] - 3s - loss: 0.3549 - acc: 0.8552     \n",
      "Epoch 67/100\n",
      "8000/8000 [==============================] - 3s - loss: 0.3535 - acc: 0.8531     \n",
      "Epoch 68/100\n",
      "8000/8000 [==============================] - 2s - loss: 0.3527 - acc: 0.8559     \n",
      "Epoch 69/100\n",
      "8000/8000 [==============================] - 2s - loss: 0.3522 - acc: 0.8560     \n",
      "Epoch 70/100\n",
      "8000/8000 [==============================] - 3s - loss: 0.3509 - acc: 0.8556     \n",
      "Epoch 71/100\n",
      "8000/8000 [==============================] - 2s - loss: 0.3510 - acc: 0.8555     \n",
      "Epoch 72/100\n",
      "8000/8000 [==============================] - 2s - loss: 0.3498 - acc: 0.8574     \n",
      "Epoch 73/100\n",
      "8000/8000 [==============================] - 2s - loss: 0.3496 - acc: 0.8560     \n",
      "Epoch 74/100\n",
      "8000/8000 [==============================] - 2s - loss: 0.3489 - acc: 0.8554     \n",
      "Epoch 75/100\n",
      "8000/8000 [==============================] - 3s - loss: 0.3483 - acc: 0.8566     \n",
      "Epoch 76/100\n",
      "8000/8000 [==============================] - 2s - loss: 0.3480 - acc: 0.8562     \n",
      "Epoch 77/100\n",
      "8000/8000 [==============================] - 2s - loss: 0.3473 - acc: 0.8595     \n",
      "Epoch 78/100\n",
      "8000/8000 [==============================] - 2s - loss: 0.3475 - acc: 0.8584     \n",
      "Epoch 79/100\n",
      "8000/8000 [==============================] - 2s - loss: 0.3472 - acc: 0.8586     \n",
      "Epoch 80/100\n",
      "8000/8000 [==============================] - 2s - loss: 0.3465 - acc: 0.8579     \n",
      "Epoch 81/100\n",
      "8000/8000 [==============================] - 2s - loss: 0.3470 - acc: 0.8589     \n",
      "Epoch 82/100\n",
      "8000/8000 [==============================] - 2s - loss: 0.3460 - acc: 0.8584     \n",
      "Epoch 83/100\n",
      "8000/8000 [==============================] - 3s - loss: 0.3459 - acc: 0.8566     \n",
      "Epoch 84/100\n",
      "8000/8000 [==============================] - 3s - loss: 0.3441 - acc: 0.8591     \n",
      "Epoch 85/100\n",
      "8000/8000 [==============================] - 2s - loss: 0.3450 - acc: 0.8596     \n",
      "Epoch 86/100\n"
     ]
    },
    {
     "name": "stdout",
     "output_type": "stream",
     "text": [
      "8000/8000 [==============================] - 2s - loss: 0.3452 - acc: 0.8582     \n",
      "Epoch 87/100\n",
      "8000/8000 [==============================] - 2s - loss: 0.3447 - acc: 0.8597     \n",
      "Epoch 88/100\n",
      "8000/8000 [==============================] - 2s - loss: 0.3446 - acc: 0.8571     \n",
      "Epoch 89/100\n",
      "8000/8000 [==============================] - 3s - loss: 0.3449 - acc: 0.8581     \n",
      "Epoch 90/100\n",
      "8000/8000 [==============================] - 3s - loss: 0.3441 - acc: 0.8552     \n",
      "Epoch 91/100\n",
      "8000/8000 [==============================] - 2s - loss: 0.3442 - acc: 0.8580     \n",
      "Epoch 92/100\n",
      "8000/8000 [==============================] - 2s - loss: 0.3433 - acc: 0.8584     \n",
      "Epoch 93/100\n",
      "8000/8000 [==============================] - 3s - loss: 0.3448 - acc: 0.8575     \n",
      "Epoch 94/100\n",
      "8000/8000 [==============================] - 3s - loss: 0.3430 - acc: 0.8577     \n",
      "Epoch 95/100\n",
      "8000/8000 [==============================] - 3s - loss: 0.3433 - acc: 0.8590     - ETA: 0s - loss: 0.3\n",
      "Epoch 96/100\n",
      "8000/8000 [==============================] - 3s - loss: 0.3437 - acc: 0.8572     \n",
      "Epoch 97/100\n",
      "8000/8000 [==============================] - 3s - loss: 0.3432 - acc: 0.8572     \n",
      "Epoch 98/100\n",
      "8000/8000 [==============================] - 2s - loss: 0.3433 - acc: 0.8599     \n",
      "Epoch 99/100\n",
      "8000/8000 [==============================] - 2s - loss: 0.3431 - acc: 0.8574     \n",
      "Epoch 100/100\n",
      "8000/8000 [==============================] - 2s - loss: 0.3437 - acc: 0.8596     \n"
     ]
    },
    {
     "data": {
      "text/plain": [
       "<keras.callbacks.History at 0x11c81c908>"
      ]
     },
     "execution_count": 8,
     "metadata": {},
     "output_type": "execute_result"
    }
   ],
   "source": [
    "# Adding the second hidden layer\n",
    "classifier.add(Dense(units = 6, kernel_initializer = 'uniform', activation = 'relu'))\n",
    "\n",
    "# Adding the output layer\n",
    "classifier.add(Dense(units = 1, kernel_initializer = 'uniform', activation = 'sigmoid'))\n",
    "\n",
    "# Compiling the ANN\n",
    "classifier.compile(optimizer = 'adam', loss = 'binary_crossentropy', metrics = ['accuracy'])\n",
    "\n",
    "# Fitting the ANN to the Training set\n",
    "classifier.fit(X_train, y_train, batch_size = 10, epochs = 100)"
   ]
  },
  {
   "cell_type": "code",
   "execution_count": 10,
   "metadata": {
    "collapsed": true
   },
   "outputs": [],
   "source": [
    "# Part 3 - Making predictions and evaluating the model\n",
    "\n",
    "# Predicting the Test set results\n",
    "y_pred = classifier.predict(X_test)\n",
    "y_pred = (y_pred > 0.5)\n",
    "\n",
    "# Making the Confusion Matrix\n",
    "from sklearn.metrics import confusion_matrix\n",
    "cm = confusion_matrix(y_test, y_pred)"
   ]
  },
  {
   "cell_type": "code",
   "execution_count": null,
   "metadata": {
    "collapsed": true
   },
   "outputs": [],
   "source": []
  }
 ],
 "metadata": {
  "kernelspec": {
   "display_name": "Python 3",
   "language": "python",
   "name": "python3"
  },
  "language_info": {
   "codemirror_mode": {
    "name": "ipython",
    "version": 3
   },
   "file_extension": ".py",
   "mimetype": "text/x-python",
   "name": "python",
   "nbconvert_exporter": "python",
   "pygments_lexer": "ipython3",
   "version": "3.6.1"
  }
 },
 "nbformat": 4,
 "nbformat_minor": 2
}
