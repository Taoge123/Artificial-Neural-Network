{
 "cells": [
  {
   "cell_type": "code",
   "execution_count": 1,
   "metadata": {
    "collapsed": true
   },
   "outputs": [],
   "source": [
    "# Artificial Neural Network\n",
    "\n",
    "# Installing Theano\n",
    "# pip install --upgrade --no-deps git+git://github.com/Theano/Theano.git\n",
    "\n",
    "# Installing Tensorflow\n",
    "# pip install tensorflow\n",
    "\n",
    "# Installing Keras\n",
    "# pip install --upgrade keras\n",
    "\n",
    "# Part 1 - Data Preprocessing\n",
    "\n",
    "# Importing the libraries\n",
    "import numpy as np\n",
    "import matplotlib.pyplot as plt\n",
    "import pandas as pd"
   ]
  },
  {
   "cell_type": "code",
   "execution_count": 2,
   "metadata": {
    "collapsed": true
   },
   "outputs": [],
   "source": [
    "# Importing the dataset\n",
    "dataset = pd.read_csv('Churn_Modelling.csv')\n",
    "X = dataset.iloc[:, 3:13].values\n",
    "y = dataset.iloc[:, 13].values"
   ]
  },
  {
   "cell_type": "code",
   "execution_count": 3,
   "metadata": {
    "collapsed": true
   },
   "outputs": [],
   "source": [
    "# Encoding categorical data\n",
    "from sklearn.preprocessing import LabelEncoder, OneHotEncoder\n",
    "labelencoder_X_1 = LabelEncoder()\n",
    "X[:, 1] = labelencoder_X_1.fit_transform(X[:, 1])\n",
    "labelencoder_X_2 = LabelEncoder()\n",
    "X[:, 2] = labelencoder_X_2.fit_transform(X[:, 2])\n",
    "onehotencoder = OneHotEncoder(categorical_features = [1])\n",
    "X = onehotencoder.fit_transform(X).toarray()\n",
    "X = X[:, 1:]"
   ]
  },
  {
   "cell_type": "code",
   "execution_count": 4,
   "metadata": {
    "collapsed": true
   },
   "outputs": [],
   "source": [
    "# Splitting the dataset into the Training set and Test set\n",
    "from sklearn.model_selection import train_test_split\n",
    "X_train, X_test, y_train, y_test = train_test_split(X, y, test_size = 0.2, random_state = 0)"
   ]
  },
  {
   "cell_type": "code",
   "execution_count": 5,
   "metadata": {
    "collapsed": true
   },
   "outputs": [],
   "source": [
    "# Feature Scaling\n",
    "from sklearn.preprocessing import StandardScaler\n",
    "sc = StandardScaler()\n",
    "X_train = sc.fit_transform(X_train)\n",
    "X_test = sc.transform(X_test)"
   ]
  },
  {
   "cell_type": "code",
   "execution_count": 6,
   "metadata": {},
   "outputs": [
    {
     "name": "stderr",
     "output_type": "stream",
     "text": [
      "Using TensorFlow backend.\n"
     ]
    }
   ],
   "source": [
    "# Part 2 - Now let's make the ANN!\n",
    "\n",
    "# Importing the Keras libraries and packages\n",
    "import keras\n",
    "from keras.models import Sequential\n",
    "from keras.layers import Dense\n",
    "from keras.layers import Dropout"
   ]
  },
  {
   "cell_type": "code",
   "execution_count": 7,
   "metadata": {
    "collapsed": true
   },
   "outputs": [],
   "source": [
    "# Initialising the ANN\n",
    "classifier = Sequential()"
   ]
  },
  {
   "cell_type": "code",
   "execution_count": 8,
   "metadata": {},
   "outputs": [
    {
     "name": "stdout",
     "output_type": "stream",
     "text": [
      "Epoch 1/100\n",
      "8000/8000 [==============================] - 3s - loss: 0.4804 - acc: 0.7960     \n",
      "Epoch 2/100\n",
      "8000/8000 [==============================] - 2s - loss: 0.4243 - acc: 0.7960     \n",
      "Epoch 3/100\n",
      "8000/8000 [==============================] - 2s - loss: 0.4192 - acc: 0.8024     \n",
      "Epoch 4/100\n",
      "8000/8000 [==============================] - 2s - loss: 0.4131 - acc: 0.8237     \n",
      "Epoch 5/100\n",
      "8000/8000 [==============================] - 2s - loss: 0.4031 - acc: 0.8299     \n",
      "Epoch 6/100\n",
      "8000/8000 [==============================] - 3s - loss: 0.3939 - acc: 0.8302     \n",
      "Epoch 7/100\n",
      "8000/8000 [==============================] - 2s - loss: 0.3861 - acc: 0.8355     \n",
      "Epoch 8/100\n",
      "8000/8000 [==============================] - 3s - loss: 0.3796 - acc: 0.8415     \n",
      "Epoch 9/100\n",
      "8000/8000 [==============================] - 2s - loss: 0.3754 - acc: 0.8444     \n",
      "Epoch 10/100\n",
      "8000/8000 [==============================] - 2s - loss: 0.3711 - acc: 0.8494     \n",
      "Epoch 11/100\n",
      "8000/8000 [==============================] - 2s - loss: 0.3680 - acc: 0.8496     \n",
      "Epoch 12/100\n",
      "8000/8000 [==============================] - 3s - loss: 0.3656 - acc: 0.8520     \n",
      "Epoch 13/100\n",
      "8000/8000 [==============================] - 3s - loss: 0.3638 - acc: 0.8540     \n",
      "Epoch 14/100\n",
      "8000/8000 [==============================] - 3s - loss: 0.3626 - acc: 0.8529     \n",
      "Epoch 15/100\n",
      "8000/8000 [==============================] - 3s - loss: 0.3597 - acc: 0.8550     \n",
      "Epoch 16/100\n",
      "8000/8000 [==============================] - 2s - loss: 0.3588 - acc: 0.8550     \n",
      "Epoch 17/100\n",
      "8000/8000 [==============================] - 2s - loss: 0.3580 - acc: 0.8542     \n",
      "Epoch 18/100\n",
      "8000/8000 [==============================] - 2s - loss: 0.3562 - acc: 0.8571     \n",
      "Epoch 19/100\n",
      "8000/8000 [==============================] - 2s - loss: 0.3552 - acc: 0.8570     \n",
      "Epoch 20/100\n",
      "8000/8000 [==============================] - 3s - loss: 0.3554 - acc: 0.8574     \n",
      "Epoch 21/100\n",
      "8000/8000 [==============================] - 2s - loss: 0.3542 - acc: 0.8584     \n",
      "Epoch 22/100\n",
      "8000/8000 [==============================] - 2s - loss: 0.3535 - acc: 0.8559     \n",
      "Epoch 23/100\n",
      "8000/8000 [==============================] - 3s - loss: 0.3533 - acc: 0.8577     \n",
      "Epoch 24/100\n",
      "8000/8000 [==============================] - 2s - loss: 0.3517 - acc: 0.8581     \n",
      "Epoch 25/100\n",
      "8000/8000 [==============================] - 3s - loss: 0.3516 - acc: 0.8599     \n",
      "Epoch 26/100\n",
      "8000/8000 [==============================] - 2s - loss: 0.3522 - acc: 0.8567     \n",
      "Epoch 27/100\n",
      "8000/8000 [==============================] - 2s - loss: 0.3516 - acc: 0.8596     \n",
      "Epoch 28/100\n",
      "8000/8000 [==============================] - 2s - loss: 0.3512 - acc: 0.8587     \n",
      "Epoch 29/100\n",
      "8000/8000 [==============================] - 2s - loss: 0.3504 - acc: 0.8594     \n",
      "Epoch 30/100\n",
      "8000/8000 [==============================] - 2s - loss: 0.3505 - acc: 0.8566     \n",
      "Epoch 31/100\n",
      "8000/8000 [==============================] - 2s - loss: 0.3507 - acc: 0.8611     \n",
      "Epoch 32/100\n",
      "8000/8000 [==============================] - 2s - loss: 0.3502 - acc: 0.8586     - ETA: 1s -\n",
      "Epoch 33/100\n",
      "8000/8000 [==============================] - 2s - loss: 0.3496 - acc: 0.8590     \n",
      "Epoch 34/100\n",
      "8000/8000 [==============================] - 2s - loss: 0.3503 - acc: 0.8595     \n",
      "Epoch 35/100\n",
      "8000/8000 [==============================] - 2s - loss: 0.3492 - acc: 0.8601     \n",
      "Epoch 36/100\n",
      "8000/8000 [==============================] - 2s - loss: 0.3494 - acc: 0.8604     - ETA: 0s - los\n",
      "Epoch 37/100\n",
      "8000/8000 [==============================] - 2s - loss: 0.3490 - acc: 0.8586     \n",
      "Epoch 38/100\n",
      "8000/8000 [==============================] - 2s - loss: 0.3488 - acc: 0.8585     \n",
      "Epoch 39/100\n",
      "8000/8000 [==============================] - 3s - loss: 0.3485 - acc: 0.8582     \n",
      "Epoch 40/100\n",
      "8000/8000 [==============================] - 4s - loss: 0.3473 - acc: 0.8585     \n",
      "Epoch 41/100\n",
      "8000/8000 [==============================] - 3s - loss: 0.3479 - acc: 0.8606     \n",
      "Epoch 42/100\n",
      "8000/8000 [==============================] - 3s - loss: 0.3471 - acc: 0.8580     \n",
      "Epoch 43/100\n",
      "8000/8000 [==============================] - 3s - loss: 0.3477 - acc: 0.8619     \n",
      "Epoch 44/100\n",
      "8000/8000 [==============================] - 3s - loss: 0.3470 - acc: 0.8595     \n",
      "Epoch 45/100\n",
      "8000/8000 [==============================] - 3s - loss: 0.3478 - acc: 0.8609     \n",
      "Epoch 46/100\n",
      "8000/8000 [==============================] - 2s - loss: 0.3470 - acc: 0.8599     \n",
      "Epoch 47/100\n",
      "8000/8000 [==============================] - 3s - loss: 0.3472 - acc: 0.8601     \n",
      "Epoch 48/100\n",
      "8000/8000 [==============================] - 3s - loss: 0.3468 - acc: 0.8581     \n",
      "Epoch 49/100\n",
      "8000/8000 [==============================] - 3s - loss: 0.3464 - acc: 0.8579     \n",
      "Epoch 50/100\n",
      "8000/8000 [==============================] - 2s - loss: 0.3462 - acc: 0.8587     \n",
      "Epoch 51/100\n",
      "8000/8000 [==============================] - 2s - loss: 0.3462 - acc: 0.8577     - ETA: 1s - loss: \n",
      "Epoch 52/100\n",
      "8000/8000 [==============================] - 2s - loss: 0.3462 - acc: 0.8601     \n",
      "Epoch 53/100\n",
      "8000/8000 [==============================] - 2s - loss: 0.3463 - acc: 0.8580     \n",
      "Epoch 54/100\n",
      "8000/8000 [==============================] - 2s - loss: 0.3459 - acc: 0.8619     \n",
      "Epoch 55/100\n",
      "8000/8000 [==============================] - 2s - loss: 0.3454 - acc: 0.8590     \n",
      "Epoch 56/100\n",
      "8000/8000 [==============================] - 2s - loss: 0.3460 - acc: 0.8595     \n",
      "Epoch 57/100\n",
      "8000/8000 [==============================] - 2s - loss: 0.3454 - acc: 0.8611     \n",
      "Epoch 58/100\n",
      "8000/8000 [==============================] - 2s - loss: 0.3450 - acc: 0.8582     \n",
      "Epoch 59/100\n",
      "8000/8000 [==============================] - 2s - loss: 0.3453 - acc: 0.8611     \n",
      "Epoch 60/100\n",
      "8000/8000 [==============================] - 2s - loss: 0.3459 - acc: 0.8592     \n",
      "Epoch 61/100\n",
      "8000/8000 [==============================] - 2s - loss: 0.3448 - acc: 0.8609     \n",
      "Epoch 62/100\n",
      "8000/8000 [==============================] - 2s - loss: 0.3455 - acc: 0.8596     \n",
      "Epoch 63/100\n",
      "8000/8000 [==============================] - 2s - loss: 0.3455 - acc: 0.8601     \n",
      "Epoch 64/100\n",
      "8000/8000 [==============================] - 2s - loss: 0.3449 - acc: 0.8595     \n",
      "Epoch 65/100\n",
      "8000/8000 [==============================] - 3s - loss: 0.3459 - acc: 0.8592     \n",
      "Epoch 66/100\n",
      "8000/8000 [==============================] - 3s - loss: 0.3447 - acc: 0.8616     \n",
      "Epoch 67/100\n",
      "8000/8000 [==============================] - 3s - loss: 0.3451 - acc: 0.8607     \n",
      "Epoch 68/100\n",
      "8000/8000 [==============================] - 3s - loss: 0.3452 - acc: 0.8607     \n",
      "Epoch 69/100\n",
      "8000/8000 [==============================] - 2s - loss: 0.3451 - acc: 0.8592     \n",
      "Epoch 70/100\n",
      "8000/8000 [==============================] - 3s - loss: 0.3442 - acc: 0.8596     \n",
      "Epoch 71/100\n",
      "8000/8000 [==============================] - 2s - loss: 0.3451 - acc: 0.8595     \n",
      "Epoch 72/100\n",
      "8000/8000 [==============================] - 2s - loss: 0.3452 - acc: 0.8596     \n",
      "Epoch 73/100\n",
      "8000/8000 [==============================] - 2s - loss: 0.3445 - acc: 0.8602     \n",
      "Epoch 74/100\n",
      "8000/8000 [==============================] - 2s - loss: 0.3444 - acc: 0.8607     \n",
      "Epoch 75/100\n",
      "8000/8000 [==============================] - 2s - loss: 0.3444 - acc: 0.8610     \n",
      "Epoch 76/100\n",
      "8000/8000 [==============================] - 2s - loss: 0.3438 - acc: 0.8589     \n",
      "Epoch 77/100\n",
      "8000/8000 [==============================] - 2s - loss: 0.3442 - acc: 0.8611     \n",
      "Epoch 78/100\n",
      "8000/8000 [==============================] - 2s - loss: 0.3439 - acc: 0.8616     \n",
      "Epoch 79/100\n",
      "8000/8000 [==============================] - 2s - loss: 0.3445 - acc: 0.8611     - ETA: 1s - loss: \n",
      "Epoch 80/100\n",
      "8000/8000 [==============================] - 2s - loss: 0.3436 - acc: 0.8605     \n",
      "Epoch 81/100\n",
      "8000/8000 [==============================] - 2s - loss: 0.3431 - acc: 0.8606     \n",
      "Epoch 82/100\n",
      "8000/8000 [==============================] - 2s - loss: 0.3443 - acc: 0.8594     \n",
      "Epoch 83/100\n",
      "8000/8000 [==============================] - 1s - loss: 0.3437 - acc: 0.8609     \n",
      "Epoch 84/100\n",
      "8000/8000 [==============================] - 2s - loss: 0.3436 - acc: 0.8604     \n",
      "Epoch 85/100\n",
      "8000/8000 [==============================] - 2s - loss: 0.3437 - acc: 0.8607     \n",
      "Epoch 86/100\n"
     ]
    },
    {
     "name": "stdout",
     "output_type": "stream",
     "text": [
      "8000/8000 [==============================] - 2s - loss: 0.3436 - acc: 0.8626     \n",
      "Epoch 87/100\n",
      "8000/8000 [==============================] - 2s - loss: 0.3434 - acc: 0.8599     \n",
      "Epoch 88/100\n",
      "8000/8000 [==============================] - 2s - loss: 0.3423 - acc: 0.8617     \n",
      "Epoch 89/100\n",
      "8000/8000 [==============================] - ETA: 0s - loss: 0.3445 - acc: 0.860 - 2s - loss: 0.3441 - acc: 0.8610     \n",
      "Epoch 90/100\n",
      "8000/8000 [==============================] - 2s - loss: 0.3418 - acc: 0.8602     \n",
      "Epoch 91/100\n",
      "8000/8000 [==============================] - 2s - loss: 0.3437 - acc: 0.8611     \n",
      "Epoch 92/100\n",
      "8000/8000 [==============================] - 2s - loss: 0.3427 - acc: 0.8617     \n",
      "Epoch 93/100\n",
      "8000/8000 [==============================] - 2s - loss: 0.3422 - acc: 0.8611     \n",
      "Epoch 94/100\n",
      "8000/8000 [==============================] - 2s - loss: 0.3430 - acc: 0.8615     \n",
      "Epoch 95/100\n",
      "8000/8000 [==============================] - 2s - loss: 0.3432 - acc: 0.8609     \n",
      "Epoch 96/100\n",
      "8000/8000 [==============================] - 2s - loss: 0.3432 - acc: 0.8590     \n",
      "Epoch 97/100\n",
      "8000/8000 [==============================] - 2s - loss: 0.3429 - acc: 0.8605     \n",
      "Epoch 98/100\n",
      "8000/8000 [==============================] - 2s - loss: 0.3433 - acc: 0.8592     \n",
      "Epoch 99/100\n",
      "8000/8000 [==============================] - 2s - loss: 0.3432 - acc: 0.8605     \n",
      "Epoch 100/100\n",
      "8000/8000 [==============================] - 2s - loss: 0.3422 - acc: 0.8600     - ETA: 1s - loss: \n"
     ]
    },
    {
     "data": {
      "text/plain": [
       "<keras.callbacks.History at 0x11e1eb390>"
      ]
     },
     "execution_count": 8,
     "metadata": {},
     "output_type": "execute_result"
    }
   ],
   "source": [
    "# Adding the input layer and the first hidden layer\n",
    "classifier.add(Dense(units = 6, kernel_initializer = 'uniform', activation = 'relu', input_dim = 11))\n",
    "# classifier.add(Dropout(p = 0.1))\n",
    "\n",
    "# Adding the second hidden layer\n",
    "classifier.add(Dense(units = 6, kernel_initializer = 'uniform', activation = 'relu'))\n",
    "# classifier.add(Dropout(p = 0.1))\n",
    "\n",
    "# Adding the output layer\n",
    "classifier.add(Dense(units = 1, kernel_initializer = 'uniform', activation = 'sigmoid'))\n",
    "\n",
    "# Compiling the ANN\n",
    "classifier.compile(optimizer = 'adam', loss = 'binary_crossentropy', metrics = ['accuracy'])\n",
    "\n",
    "# Fitting the ANN to the Training set\n",
    "classifier.fit(X_train, y_train, batch_size = 10, epochs = 100)\n"
   ]
  },
  {
   "cell_type": "code",
   "execution_count": 9,
   "metadata": {
    "collapsed": true
   },
   "outputs": [],
   "source": [
    "# Part 3 - Making predictions and evaluating the model\n",
    "\n",
    "# Predicting the Test set results\n",
    "y_pred = classifier.predict(X_test)\n",
    "y_pred = (y_pred > 0.5)\n",
    "\n"
   ]
  },
  {
   "cell_type": "code",
   "execution_count": null,
   "metadata": {
    "collapsed": true
   },
   "outputs": [],
   "source": [
    "# Making the Confusion Matrix\n",
    "from sklearn.metrics import confusion_matrix\n",
    "cm = confusion_matrix(y_test, y_pred)\n"
   ]
  },
  {
   "cell_type": "code",
   "execution_count": null,
   "metadata": {},
   "outputs": [
    {
     "name": "stdout",
     "output_type": "stream",
     "text": [
      "Epoch 1/100\n",
      "Epoch 1/100\n",
      "Epoch 1/100\n",
      "Epoch 1/100\n"
     ]
    }
   ],
   "source": [
    "# Part 4 - Evaluating, Improving and Tuning the ANN\n",
    "\n",
    "# Evaluating the ANN\n",
    "from keras.wrappers.scikit_learn import KerasClassifier\n",
    "from sklearn.model_selection import cross_val_score\n",
    "from keras.models import Sequential\n",
    "from keras.layers import Dense\n",
    "def build_classifier():\n",
    "    classifier = Sequential()\n",
    "    classifier.add(Dense(units = 6, kernel_initializer = 'uniform', activation = 'relu', input_dim = 11))\n",
    "    classifier.add(Dense(units = 6, kernel_initializer = 'uniform', activation = 'relu'))\n",
    "    classifier.add(Dense(units = 1, kernel_initializer = 'uniform', activation = 'sigmoid'))\n",
    "    classifier.compile(optimizer = 'adam', loss = 'binary_crossentropy', metrics = ['accuracy'])\n",
    "    return classifier\n",
    "classifier = KerasClassifier(build_fn = build_classifier, batch_size = 10, epochs = 100)\n",
    "accuracies = cross_val_score(estimator = classifier, X = X_train, y = y_train, cv = 10, n_jobs = -1)\n",
    "mean = accuracies.mean()\n",
    "variance = accuracies.std()\n"
   ]
  },
  {
   "cell_type": "code",
   "execution_count": null,
   "metadata": {
    "collapsed": true
   },
   "outputs": [],
   "source": [
    "# Improving the ANN\n",
    "# Dropout Regularization to reduce overfitting if needed\n",
    "\n",
    "# Tuning the ANN\n",
    "from keras.wrappers.scikit_learn import KerasClassifier\n",
    "from sklearn.model_selection import GridSearchCV\n",
    "from keras.models import Sequential\n",
    "from keras.layers import Dense\n",
    "def build_classifier(optimizer):\n",
    "    classifier = Sequential()\n",
    "    classifier.add(Dense(units = 6, kernel_initializer = 'uniform', activation = 'relu', input_dim = 11))\n",
    "    classifier.add(Dense(units = 6, kernel_initializer = 'uniform', activation = 'relu'))\n",
    "    classifier.add(Dense(units = 1, kernel_initializer = 'uniform', activation = 'sigmoid'))\n",
    "    classifier.compile(optimizer = optimizer, loss = 'binary_crossentropy', metrics = ['accuracy'])\n",
    "    return classifier\n",
    "classifier = KerasClassifier(build_fn = build_classifier)\n",
    "parameters = {'batch_size': [25, 32],\n",
    "              'epochs': [100, 500],\n",
    "              'optimizer': ['adam', 'rmsprop']}\n",
    "grid_search = GridSearchCV(estimator = classifier,\n",
    "                           param_grid = parameters,\n",
    "                           scoring = 'accuracy',\n",
    "                           cv = 10)\n",
    "grid_search = grid_search.fit(X_train, y_train)\n",
    "best_parameters = grid_search.best_params_\n",
    "best_accuracy = grid_search.best_score_"
   ]
  },
  {
   "cell_type": "code",
   "execution_count": null,
   "metadata": {
    "collapsed": true
   },
   "outputs": [],
   "source": []
  }
 ],
 "metadata": {
  "kernelspec": {
   "display_name": "Python 3",
   "language": "python",
   "name": "python3"
  },
  "language_info": {
   "codemirror_mode": {
    "name": "ipython",
    "version": 3
   },
   "file_extension": ".py",
   "mimetype": "text/x-python",
   "name": "python",
   "nbconvert_exporter": "python",
   "pygments_lexer": "ipython3",
   "version": "3.6.1"
  }
 },
 "nbformat": 4,
 "nbformat_minor": 2
}
